{
 "cells": [
  {
   "cell_type": "code",
   "execution_count": 10,
   "metadata": {},
   "outputs": [
    {
     "name": "stdout",
     "output_type": "stream",
     "text": [
      "[[ 1  2  3  4  5]\n",
      " [ 6  7  8  9 10]\n",
      " [11 12 13 14 15]\n",
      " [16 17 18 19 20]\n",
      " [21 22 23 24 25]]\n"
     ]
    }
   ],
   "source": [
    "import numpy as np\n",
    "\n",
    "def rotate(A):\n",
    "    rotated_A = np.array(A).T.tolist()\n",
    "    for i in range(len(A[0])):\n",
    "        for j in range(len(A)):\n",
    "            rotated_A[i][j] = A[j][-(i+1)]\n",
    "    return rotated_A\n",
    "\n",
    "def reset(A):\n",
    "    _A = A.copy()\n",
    "    x = list(_A.pop(0))\n",
    "    while _A:\n",
    "        _A = rotate(_A)\n",
    "        x += _A.pop(0)\n",
    "    return np.array(x).reshape(np.array(A).shape)\n",
    "    \n",
    "\n",
    "test = [[1, 2, 3, 4, 5], [16, 17, 18, 19, 6], [15, 24, 25, 20, 7], [14, 23, 22, 21, 8], [13, 12, 11, 10, 9]]\n",
    "print(reset(test))\n"
   ]
  }
 ],
 "metadata": {
  "kernelspec": {
   "display_name": "Python 3",
   "language": "python",
   "name": "python3"
  },
  "language_info": {
   "codemirror_mode": {
    "name": "ipython",
    "version": 3
   },
   "file_extension": ".py",
   "mimetype": "text/x-python",
   "name": "python",
   "nbconvert_exporter": "python",
   "pygments_lexer": "ipython3",
   "version": "3.8.3"
  }
 },
 "nbformat": 4,
 "nbformat_minor": 4
}
