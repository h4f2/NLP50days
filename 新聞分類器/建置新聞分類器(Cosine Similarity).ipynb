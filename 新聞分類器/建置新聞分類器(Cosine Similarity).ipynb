{
 "cells": [
  {
   "cell_type": "code",
   "execution_count": 1,
   "metadata": {},
   "outputs": [],
   "source": [
    "import pandas as pd\n",
    "import numpy as np\n",
    "\n",
    "from ckiptagger import WS, POS\n",
    "from tqdm.notebook import tqdm"
   ]
  },
  {
   "cell_type": "code",
   "execution_count": 2,
   "metadata": {},
   "outputs": [],
   "source": [
    "df_train = pd.read_csv('news_clustering_train.tsv', sep='\\t')\n",
    "df_test = pd.read_csv('news_clustering_test.tsv', sep='\\t')"
   ]
  },
  {
   "cell_type": "code",
   "execution_count": 3,
   "metadata": {},
   "outputs": [
    {
     "data": {
      "text/html": [
       "<div>\n",
       "<style scoped>\n",
       "    .dataframe tbody tr th:only-of-type {\n",
       "        vertical-align: middle;\n",
       "    }\n",
       "\n",
       "    .dataframe tbody tr th {\n",
       "        vertical-align: top;\n",
       "    }\n",
       "\n",
       "    .dataframe thead th {\n",
       "        text-align: right;\n",
       "    }\n",
       "</style>\n",
       "<table border=\"1\" class=\"dataframe\">\n",
       "  <thead>\n",
       "    <tr style=\"text-align: right;\">\n",
       "      <th></th>\n",
       "      <th>index</th>\n",
       "      <th>class</th>\n",
       "      <th>title</th>\n",
       "    </tr>\n",
       "  </thead>\n",
       "  <tbody>\n",
       "    <tr>\n",
       "      <th>0</th>\n",
       "      <td>0</td>\n",
       "      <td>體育</td>\n",
       "      <td>亞洲杯奪冠賠率：日本、伊朗領銜 中國竟與泰國並列</td>\n",
       "    </tr>\n",
       "    <tr>\n",
       "      <th>1</th>\n",
       "      <td>1</td>\n",
       "      <td>體育</td>\n",
       "      <td>9輪4球本土射手僅次武磊 黃紫昌要搶最強U23頭銜</td>\n",
       "    </tr>\n",
       "    <tr>\n",
       "      <th>2</th>\n",
       "      <td>2</td>\n",
       "      <td>體育</td>\n",
       "      <td>如果今年勇士奪冠，下賽季詹姆斯何去何從？</td>\n",
       "    </tr>\n",
       "    <tr>\n",
       "      <th>3</th>\n",
       "      <td>3</td>\n",
       "      <td>體育</td>\n",
       "      <td>超級替補！科斯塔本賽季替補出場貢獻7次助攻</td>\n",
       "    </tr>\n",
       "    <tr>\n",
       "      <th>4</th>\n",
       "      <td>4</td>\n",
       "      <td>體育</td>\n",
       "      <td>騎士6天里發生了啥？從首輪搶七到次輪3-0猛龍</td>\n",
       "    </tr>\n",
       "  </tbody>\n",
       "</table>\n",
       "</div>"
      ],
      "text/plain": [
       "   index class                      title\n",
       "0      0    體育   亞洲杯奪冠賠率：日本、伊朗領銜 中國竟與泰國並列\n",
       "1      1    體育  9輪4球本土射手僅次武磊 黃紫昌要搶最強U23頭銜\n",
       "2      2    體育       如果今年勇士奪冠，下賽季詹姆斯何去何從？\n",
       "3      3    體育      超級替補！科斯塔本賽季替補出場貢獻7次助攻\n",
       "4      4    體育    騎士6天里發生了啥？從首輪搶七到次輪3-0猛龍"
      ]
     },
     "metadata": {},
     "output_type": "display_data"
    },
    {
     "data": {
      "text/html": [
       "<div>\n",
       "<style scoped>\n",
       "    .dataframe tbody tr th:only-of-type {\n",
       "        vertical-align: middle;\n",
       "    }\n",
       "\n",
       "    .dataframe tbody tr th {\n",
       "        vertical-align: top;\n",
       "    }\n",
       "\n",
       "    .dataframe thead th {\n",
       "        text-align: right;\n",
       "    }\n",
       "</style>\n",
       "<table border=\"1\" class=\"dataframe\">\n",
       "  <thead>\n",
       "    <tr style=\"text-align: right;\">\n",
       "      <th></th>\n",
       "      <th>index</th>\n",
       "      <th>class</th>\n",
       "      <th>title</th>\n",
       "    </tr>\n",
       "  </thead>\n",
       "  <tbody>\n",
       "    <tr>\n",
       "      <th>0</th>\n",
       "      <td>1800</td>\n",
       "      <td>體育</td>\n",
       "      <td>如果騎士火箭進入總決賽，誰的勝算大？</td>\n",
       "    </tr>\n",
       "    <tr>\n",
       "      <th>1</th>\n",
       "      <td>1801</td>\n",
       "      <td>體育</td>\n",
       "      <td>從個人競技狀態來看，三個階段的詹姆斯，哪個最強？</td>\n",
       "    </tr>\n",
       "    <tr>\n",
       "      <th>2</th>\n",
       "      <td>1802</td>\n",
       "      <td>體育</td>\n",
       "      <td>騎士總冠軍！地球人誰能阻擋詹姆斯？史上最佳就是他！打服所有人</td>\n",
       "    </tr>\n",
       "    <tr>\n",
       "      <th>3</th>\n",
       "      <td>1803</td>\n",
       "      <td>體育</td>\n",
       "      <td>詹姆斯絕殺，騎士3比0，猛龍懷疑人生</td>\n",
       "    </tr>\n",
       "    <tr>\n",
       "      <th>4</th>\n",
       "      <td>1804</td>\n",
       "      <td>體育</td>\n",
       "      <td>騎士和步行者戰成搶七險勝，而猛龍即將被橫掃，步行者跟猛龍的區別在哪裡？</td>\n",
       "    </tr>\n",
       "  </tbody>\n",
       "</table>\n",
       "</div>"
      ],
      "text/plain": [
       "   index class                                title\n",
       "0   1800    體育                   如果騎士火箭進入總決賽，誰的勝算大？\n",
       "1   1801    體育             從個人競技狀態來看，三個階段的詹姆斯，哪個最強？\n",
       "2   1802    體育       騎士總冠軍！地球人誰能阻擋詹姆斯？史上最佳就是他！打服所有人\n",
       "3   1803    體育                   詹姆斯絕殺，騎士3比0，猛龍懷疑人生\n",
       "4   1804    體育  騎士和步行者戰成搶七險勝，而猛龍即將被橫掃，步行者跟猛龍的區別在哪裡？"
      ]
     },
     "metadata": {},
     "output_type": "display_data"
    }
   ],
   "source": [
    "display(df_train.head())\n",
    "display(df_test.head())"
   ]
  },
  {
   "cell_type": "code",
   "execution_count": 4,
   "metadata": {},
   "outputs": [],
   "source": [
    "train_titles = {row['index']: row['title'] for _, row in df_train.iterrows()}\n",
    "train_classes = {row['index']: row['class'] for _, row in df_train.iterrows()}\n",
    "\n",
    "test_titles = {row['index']: row['title'] for _, row in df_test.iterrows()}\n",
    "test_classes = {row['index']: row['class'] for _, row in df_test.iterrows()}"
   ]
  },
  {
   "cell_type": "code",
   "execution_count": 5,
   "metadata": {},
   "outputs": [],
   "source": [
    "all_news_class = ['體育', '財經', '科技', '旅遊', '農業', '遊戲']"
   ]
  },
  {
   "cell_type": "markdown",
   "metadata": {},
   "source": [
    "# 斷詞 + POS"
   ]
  },
  {
   "cell_type": "code",
   "execution_count": 6,
   "metadata": {
    "tags": []
   },
   "outputs": [],
   "source": [
    "# 忽略警告\n",
    "import warnings\n",
    "warnings.simplefilter(\"ignore\")\n",
    "ws, pos = WS('./data/'), POS('./data/')"
   ]
  },
  {
   "cell_type": "code",
   "execution_count": 7,
   "metadata": {
    "tags": []
   },
   "outputs": [
    {
     "data": {
      "application/vnd.jupyter.widget-view+json": {
       "model_id": "1bc40b48323c4c3cb8f3491427e91f71",
       "version_major": 2,
       "version_minor": 0
      },
      "text/plain": [
       "HBox(children=(FloatProgress(value=0.0, max=1800.0), HTML(value='')))"
      ]
     },
     "metadata": {},
     "output_type": "display_data"
    },
    {
     "name": "stdout",
     "output_type": "stream",
     "text": [
      "\n"
     ]
    }
   ],
   "source": [
    "train_title_cuts = {}\n",
    "for index, title in tqdm(train_titles.items()):\n",
    "    word_s = ws([title])\n",
    "    word_p = pos(word_s)\n",
    "    train_title_cuts[index] = list(zip(word_s[0], word_p[0]))"
   ]
  },
  {
   "cell_type": "code",
   "execution_count": 8,
   "metadata": {
    "tags": []
   },
   "outputs": [
    {
     "data": {
      "application/vnd.jupyter.widget-view+json": {
       "model_id": "5c9ab84b6406461487186076b96dbbbd",
       "version_major": 2,
       "version_minor": 0
      },
      "text/plain": [
       "HBox(children=(FloatProgress(value=0.0, max=600.0), HTML(value='')))"
      ]
     },
     "metadata": {},
     "output_type": "display_data"
    },
    {
     "name": "stdout",
     "output_type": "stream",
     "text": [
      "\n"
     ]
    }
   ],
   "source": [
    "test_title_cuts = {}\n",
    "for index, title in tqdm(test_titles.items()):\n",
    "    word_s = ws([title])\n",
    "    word_p = pos(word_s)\n",
    "    test_title_cuts[index] = list(zip(word_s[0], word_p[0]))"
   ]
  },
  {
   "cell_type": "code",
   "execution_count": 9,
   "metadata": {},
   "outputs": [
    {
     "data": {
      "text/plain": [
       "[('國腳', 'Na'),\n",
       " ('張呈棟', 'Nb'),\n",
       " ('：', 'COLONCATEGORY'),\n",
       " ('從', 'D'),\n",
       " ('沒', 'D'),\n",
       " ('想', 'VE'),\n",
       " ('過', 'Di'),\n",
       " ('自己', 'Nh'),\n",
       " ('會', 'D'),\n",
       " ('出', 'VC'),\n",
       " ('一', 'Neu'),\n",
       " ('本', 'Nf'),\n",
       " ('書', 'Na')]"
      ]
     },
     "execution_count": 9,
     "metadata": {},
     "output_type": "execute_result"
    }
   ],
   "source": [
    "train_title_cuts[120]"
   ]
  },
  {
   "cell_type": "markdown",
   "metadata": {},
   "source": [
    "# 排除較無意義的詞性"
   ]
  },
  {
   "cell_type": "code",
   "execution_count": 10,
   "metadata": {
    "tags": []
   },
   "outputs": [
    {
     "name": "stdout",
     "output_type": "stream",
     "text": [
      "Nb : ['黃紅元', '阿里', '富德', '大豐', '拳皇', '斯諾克', '奧尼爾', '胤禛', '王昭君', '帕克成', '老馬', '昌圖', '穆里尼奧', '黃希揚', '李', '德羅', '瓜迪奧拉', '群里', '艾科麥佛鯊', '勒布朗詹姆斯', '·龜茲', '馬龍', '海王星', '米萊狄', '羅永浩', 'P60八核讓', '李白', '郭煒煒', '王', '雀巢', '奧拉朱旺遠', '侯森', '娜迦王海伯倫', '姚明', '游古', '網易', '伊藤美誠', '扎哈維', '阿木木歷', '李秋平', '賞月夜', '雷軍', '宏運', '科爾', '里皮', '阿里雲', '鄭眼', '查理芒格', '恆大', '餘額寶']\n",
      "=======================\n",
      "VC : ['評論', '爆發出', '佔領', '起到', '觀賞', '防守', '關掉', '打擊', '採摘', '克制', '迎立', '成立', '把握', '開放', '等到', '打死', '誤判', '刷完', '採', '找回', '建', '花用', '製作', '運算', '虐爆', '種點', '攪亂', '聯繫', '毀掉', '吃完', '套種', '廢', '炒', '開', '娶', '用到', '訓練', '錄制', '表現', '創', '匯總', '套現', '取捨', '翻', '練到', '推薦', '挑', '破除', '拍', '移栽']\n",
      "=======================\n",
      "Na : ['評論', '罰單', '懶人', '大水', '會', '方向', '紅心', '負增長', '物價', '你我', '航線', '條款', '小額', '飛機秀', '長線', '工作', '鱸', '大禮', '英雄榜', '雨水', '天氣', '意義', '人壽', '場合', '騎士', '農民', '聯賽', 'Bu', '秘訣', '名鎮', '部位', '焊槍', '傀儡', '路人', '心態', '官方', '隊伍', '社保', '字', '高家路', '蒜', '火線', 'ctrl鍵', '濃眉', '電', '秋光', '池', '序', '深山', '琶洲展']\n",
      "=======================\n",
      "COLONCATEGORY : [':', '：']\n",
      "=======================\n",
      "Nc : ['維希', '巴釐島', '上海', '河岸', '貴州省', '藏南', '宿城', '江蘇', '優區', '市場', '目的地', '普吉島', '天宮', '萬寧', '浙里', '信訪局', '天津', '寶雞', '球館', '米蘭', '雪鄉', '寶閣', '南寧', '雷區', '北控', '東城', '培田', '武漢', '保級區', '洛杉磯', '王者局', '鹽城', '海外', '陽朔', '孟津', '大麥灘', '神壇', '福建', '掌門', '意大利', '重慶', '身邊', '嵐皋', '蒼山', '國外', '中', '滕州', '大洲島', '後座', '城鎮']\n",
      "=======================\n",
      "PAUSECATEGORY : ['、']\n",
      "=======================\n",
      "VB : ['加工', '收回來', '退款', '鍍金', '代打', '復仇', '融資', '相比', '解圍', '分組', '罵屌絲', '分段', '助威', '入賬', '應對', '再見', '上架', '退貨', '加持', '騙錢', '效力', '開戰', '站台', '通話', '提前', '充氣', '一網打盡', '護航', '退改', '加油', '抓來', '加冕', '定位', '分紅', '導航', '扣分', '領銜', '解惑', '充飢', '執教', '罰款', '拍照', '鋪平', '解體', '解密', '計算出來', '加起來']\n",
      "=======================\n",
      "WHITESPACE : [' ']\n",
      "=======================\n",
      "D : ['迫不及待', '不料', '能夠', '有沒有', '會', '並', '能否', '怎麼', '大規模', '那麼', '大力', '多多', '何以', '曾經', '應當', '恆', '難道', '越', '這麼', '還可以', '屢次', '偶爾', '已', '不可以', '快', '超級', '本來', '哈哈', '頻', '紛紛', '去', '隨地', '居然', '屢屢', '互', '簡直', '常常', '難以', '要', '隆', '可', '白', '如何', '首', '大概', '當下', '甚至', '絕對', '年年', '怎能']\n",
      "=======================\n",
      "P : ['於', '直至', '除了', '比', '待', '向', '隨了', '根據', '如', '按', '為了', '距離', '和', '當', '靠', '對', '往', '繼', '遭', '將', '以', '針對', '用', '離', '趁著', '自從', '像', '趁', '自', '跟', '因', '隨', '受', '憑', '慘遭', '為', '等', '從', '幫', '除', '比如', '在', '把', '至', '就', '被', '與', '關於', '給', '臨']\n",
      "=======================\n",
      "VG : ['充當', '評選', '類似', '美成', '竟是', '如', '猶如', '建成', '成為', '應聘', '戰成', '似', '算', '合成', '當成', '當', '封號', '做成', '排', '升任', '並列', '算是', '當作', '當上', '化', '等於', '投票成', '形成', '稱得上', '作為', '排行', '堪稱', '像', '名叫', '變', '排名', '譽為', '居', '稱為', '叫做', '屬於', '為', '非', '做', '理解為', '變成', '誤認成', '疑似', '叫', '酷似']\n",
      "=======================\n",
      "Neu : ['，0', '91', '60', '三', '2:3', '20萬一', '千', '20萬', '200萬', '1.23億', '第七', '50多', '第四', '百', '11', '3000億', '0:3', '64', '！2018', '17', '3.5', '6.9', '第三', '第3', '7億', '100', '千千萬', 'b120', '2018.5.6', '1.8億', '1688', '72', '392億', '3', '18', '180萬', '48', '700', '十', '400萬', '47億', '47', '35萬', '4.5', '第十四', '24.8億', '千億', '20', '500', '五一']\n",
      "=======================\n",
      "Nf : ['片', '分鐘', '票', '頭', '件', '元', '串', '毛', '則', '港元', '期', '層', '遍', '頓', '局', '支', '次', '美元', '口', '把', '種', '碗', '只', '棵', '輛', '本', '周', '行', '路', '門', '道', '對', '句', '座', '場', '日', '掛', '套', '班', '塊', '檔', '筆', '隻', '色', '刻', '輪', '關', '斤', 'K', '週']\n",
      "=======================\n",
      "VJ : ['透', '出於', '錯過', '嫌棄', '受到', '無', '維持', '忘懷', '平', '認識', '懼怕', '看好', '值', '蘊藏', '逾', '不到', '衝', '含有', '羨慕', '適用', '替代', '受', '曝限', '歸屬於', '脫', '為', '不如', '適應', '出身', '要價', '沈迷', '展望', '偏愛', '出', '高達', '持有', '贏得', '納入', '共有', '負', '認', '震撼到', '優於', '得', '遺傳', '年入', '翻倍', '歡迎', '超過', '身臨']\n",
      "=======================\n",
      "VD : ['欠', '送', '借貸', '分', '拒賠', '貸', '賣', '供應', '補貼', '轉讓', '售', '支付', '禁售', '郵給', '傳', '贏', '付', '坑', '寄予', '發', '給予', '搶', '速遞', '發給', '交付', '輸', '還', '收費', '貸款', '配', '清繳', '提供', '補繳', '輸給', '白送', '給', '予', '借', '發放']\n",
      "=======================\n",
      "Dfa : ['有點', '很', '同樣', '如此', '最', '比較', '不大', '頗', '這麼', '過於', '過', '極', '有些', '較', '越來越', '超', '還', '好', '還要', '非常', '更為', '多', '更', '遠', '太', '遠遠', '十分']\n",
      "=======================\n",
      "VH : ['新鮮', '怎麼', '如此', '假', '普通', '雄厚', '積極', '盡如人意', '厲害', '交流', '背水一戰', '還可以', '勝利', '快', '獨立', '不行', '愜意', '自由', '安全', '清甜', '酷', '現代', '偉大', '滿滿', '好好', '錯', '真不少', '爆爆', '爆紅', '獨邁', '完勝', '明顯', '壞', '沒用', '同步', '流暢', '發燒', '面世', '成熟', '激烈', '緊', '笨', '跌，', '實用', '可怕', '涼爽', '觸底', '紅', '罕見', '不錯']\n",
      "=======================\n",
      "Cbb : ['並', '只要', '要是', '但是', '不過', '另外', '只有', '而是', '不管', '即使', '既', '可是', '而', '跟著', '不然', '還不如', '如果', '若', '就算', '縱使', '反而', '因', '但', '不僅', '假如', '雖然', '既然', '不如', '連', '並且', '因為', '否則']\n",
      "=======================\n",
      "Nd : ['以前', '31號', '今日', '2018年', '最後', '米節', '以後', '寒武紀', '晚上', '夏日', '30號', '7號', '雍正', '旺季', '現代', '夜', '後', '立夏', '夏天', '19年', '文化節', '2019', '相親節', '春天', '過去', '花季', '-5', '何時', '隔年', '周', '90年', '當年', '半夜', '5月份', '5.7日', '五月份', '6日', '15年', '熱天', '月季', '夏', '4月', '1日', '明日', '晚間', '臨時', '那時', '一大早', '2020年', '2018']\n",
      "=======================\n",
      "VA : ['見面', '掙扎', '亮相', '起航', '觀光', '搭檔', '揮刀', '搶七', '產仔', '工作', '旅行', '開王', '反轉', '報檢', '撒沙', '徒步', '變通', '打板', '存在', '犯規', '醒', '餵尿素', '加時', '拍案叫絕', '上升', '流動', '倒計', '鬥米', '開播', '奔馳', '相親', '合伙', '自殺', '表態', '打顫', '種菜', '炒房', '退', '掃尾', '就業', '栽桑', '上場', '跌', '建功', '理財', '入院', '結婚', '翻曬求籽', '偷腥', '進貨']\n",
      "=======================\n",
      "COMMACATEGORY : ['，', ',']\n",
      "=======================\n",
      "Nes : ['頭', '前', '本', '近', '貴', '各', '何', '某', '後', '同', '另', '下', '首', '每', '該', '上']\n",
      "=======================\n",
      "QUESTIONCATEGORY : ['？']\n",
      "=======================\n",
      "EXCLAMATIONCATEGORY : ['!', '！']\n",
      "=======================\n",
      "Di : ['過', '起來', '個', '著', '了']\n",
      "=======================\n",
      "Nep : ['哪', '啥', '那', '其中', '什麼', '此', '其', '這']\n",
      "=======================\n",
      "Caa : ['VS', '或者', '比', '跟', '或', '及', '暨', '至', '與', '又', '到', '和', '還是', '或是']\n",
      "=======================\n",
      "VCL : ['遊覽', '橫掃', '遠離', '跌出', '來到', '深入', '穿越', '走訪', '用於', '重返', '留在', '到達', '入', '玩遍', '前來', '過', '蒞臨', '前往', '往', '住', '栽進', '去', '走到', '穿透', '抵達', '赴', '回', '進入', '進', '穿過', '路過', '出發到', '直達', '登陸', '回到', '存進', '回歸', '走過', '在', '度過', '跌至', '暗渡', '重回', '升至', '走進', '到', '退出', '出', '盤踞', '走下']\n",
      "=======================\n",
      "Neqa : ['這麼多', '大多', '所有', '一半', '0.8%', '30%', '部分', '許多', '一些', '多少', '句句', '半', '很多', '個個', '步步', '大多數', '6%', '8%', '四成', '一切', '一點', '一處處', '1%', '有些', '1/4', '15%', '這些', '那些', '哪些', '20%', '80%', '不少', '遍', '滴滴', '90%', '無數', '10%', '大量', '全', '有的', '百分之八十', '41.8%', '其他', '多', '100%', '67%', '多點', '9.89%', '三分之一', '更多']\n",
      "=======================\n",
      "Nh : ['各位', '自身', '對方', '私人', '他們', '她', '個人', '人家', '父子倆', '雙方', '屌絲', '小眾', '自己', '自我', '俺們', '它', '各自', '他', '大家', '我們', '她們', '它們', '一方', '別人', '我', '本人', '你', '您', '你們', '誰']\n",
      "=======================\n",
      "FW : ['Oeanc', 'max2', 'SIo', 'app', 'LOL', 'cpu', 'eStarPro vs WF.D', 'lol', 'shou', ' 樂', 'p', 'Kitty', 'OTT', 'BAT', 'G', ' vs 利物浦', 'SSR', 'CP', 'RNG', '6G+', 'pro7', 'Ghappy', 'RPG', 'EOS', 'Minecraft', 'Guru', ' 展', 'NBA ', 'N+1', 'QQ', '~', 'adc', 'W', '5A', 'AP', 'DW', 'D', 'N7', 'ADC', 'B', 'S', 'XQ', 'LOL：', '2W', '+7', 'PS4/NS', 'l ', 'BTC', 'T+0', 'qq']\n",
      "=======================\n",
      "SHI : ['是', '像是']\n",
      "=======================\n",
      "VE : ['反對', '慶祝', '抱怨', '精准', '賭約', '准', '發現', '限制', '炫耀', '訴說', '看到', '防止', '見證', '問', '提醒', '要', '樂見', '形容', '公告', '發佈', '發誓', '報道', '回顧', '提起', '預定', '看清楚', '預防', '警惕', '管', '提到', '避免', '想', '假設', '做到', '廣播', '判罰', '公示', '證明', '鑒定', '判定', '深思', '看出', '示範', '說', '爆料', '想要', '調研', '認為', '估值', '聽到']\n",
      "=======================\n",
      "DE : ['之', '地', '的', '得']\n",
      "=======================\n",
      "VHC : ['下來', '愁壞', '煩', '辛苦', '結束', '滿足', '加快', '平衡', '產生', '傷', '愁死', '震驚', '團結', '機構化', '溫暖', '減少', '陷', '冷卻', '還原', '豐富', '降低', '增 ', '感動', '麻煩', '停', '開', '普及', '智能化', '現代化', '告破', '增強', '穩定', '暫停', '斷', '破', '凍', '壞', '肥', '可憐', '規模化', '恢復', '公開', '縮小', '繁榮', '熱', '增長', '變動', '強化', '優化', '增加']\n",
      "=======================\n",
      "Ng : ['以來', '之外', '中', '起', '之內', '般', '下', '以後', '之後', '裡', '前', '以外', '之中', '之上', '之下', '來', '左右', '以上', '底', '後', '為止', '以下', '時', '內', '之間', '外', '而言', '間', '之前', '初', '上']\n",
      "=======================\n",
      "VK : ['曲解', '遇', '確定', '面臨', '介意', '奇怪', '希望', '知道', '擔心', '欲', '需', '意外', '不滿', '恨', '有利於', '抱歉', '喜歡', '懂得', '注意', '依賴', '恐', '回憶', '害怕', '明白', '覺', '討厭', '期待', '感受', '願', '不忘', '願意', '想見', '懷疑', '忘記', '需要', '肯定', '顯示', '堅持', '意味', '怕', '感覺', '所謂', '知', '意想不到', '同意', '小心', '信', '指望', '遺憾', '盼']\n",
      "=======================\n",
      "Ncd : ['中', '方', '北', '這裡', '西', '下', '中部', '裡面', '對面', '裡', '東', '東部', '東西部', '畔', '旁邊', '西部', '末端', '外面', '底部', '邊', '一帶', '當中', '以下', '那邊', '兩旁', '內', '哪兒', '上面', '外', '哪裡', '中間', '哪', '哪下', '上方', '東方', '間', '前沿', '那裡', '上']\n",
      "=======================\n",
      "A : ['真正', '頭號', '中', '同一', '寶有', '新一代', '業餘', '優質', '原', '額外', '獨門', '必備', '雙', '常務', '中西', '基礎', '小本', '上上', '國產', '超級', '乒乓', '眾', '綜合', '同等', '一般', '後置', '高度', '地下', '主', '最佳', '前置', '超', '單', '獨家', '歐式', '彩色', '非', '麻辣', '二手', '獨角', '重磅', '火紅', '總', '共同', '碧藍', '現役', '現行', '基層', '野生', '新興']\n",
      "=======================\n",
      "V_2 : ['有']\n",
      "=======================\n",
      "VL : ['用來', '愛好', '使得', '開始', '甘願', '持續', '讓', '故意', '令', '肯', '習慣', '能', '敢', '致', '趨於', '喜好', '不惜', '便利', '導致', '愛', '使', '後悔']\n",
      "=======================\n",
      "T : ['哪', '矣', '呢', '咯', '去', '啦', '麼', '嘛', '嗎', '了', '吧', '啊', '來', '哦', '的']\n",
      "=======================\n",
      "VI : ['取勝', '著稱', '專用', '驚艷', '傾心']\n",
      "=======================\n",
      "DASHCATEGORY : ['-', '—']\n",
      "=======================\n",
      "I : ['瑪法里奧', '哦']\n",
      "=======================\n",
      "Dk : ['結果', '那', '據說', '反過來', '外傳', '那麼', '據聞', '想不到']\n",
      "=======================\n",
      "VF : ['圖', '要求', '率領', '策劃', '試試', '準備', '打算', '逼', '鼓勵', '邀', '推選', '帶領', '繼續', '催', '請', '勸說', '申請', '勸住', '判', '拒絕', '告誡', '叫', '止住', '停止', '拒', '擬', '試', '助']\n",
      "=======================\n",
      "Da : ['近', '最多', '不下', '將近', '才', '光', '幾近', '共', '足足', '正好', '唯獨', '幾乎', '只', '僅', '約']\n",
      "=======================\n",
      "PARENTHESISCATEGORY : ['（', '(', '」', '《', '）', '》', '「']\n",
      "=======================\n",
      "Nv : ['遊樂', '翻譯', '旅遊', '燃燒', '銷售', '增發', '私募', '供電', '配置', '判罰', '護髮', '航海', '體驗', '工作', '思考', '輔助', '兼職', '分銷', '營銷', '創業', '代理', '問', '絕殺', '批發', '灌籃', '訴訟', '惡搞', '崩潰', '錄制', '生產', '疊加', '組合', '回歸', '射擊', '關聯', '防治', '度假', '買單', '開發', '登山', '推薦', '經歷', '解救', '抗戰', '研究', '管理']\n",
      "=======================\n",
      "PERIODCATEGORY : ['。', '·']\n",
      "=======================\n",
      "VAC : ['推進', '集合', '蒸發', '上演', '移動', '動']\n",
      "=======================\n",
      "Dfb : ['極了', '一點', '些']\n",
      "=======================\n",
      "Cab : ['等等', '等']\n",
      "=======================\n",
      "SEMICOLONCATEGORY : ['；']\n",
      "=======================\n",
      "Neqb : ['半', '多', '幾', '以上']\n",
      "=======================\n",
      "ETCCATEGORY : ['…']\n",
      "=======================\n",
      "Cba : ['的話']\n",
      "=======================\n",
      "DOTCATEGORY : ['.']\n",
      "=======================\n"
     ]
    }
   ],
   "source": [
    "pos_analysis = {}\n",
    "for _, pairs in train_title_cuts.items():\n",
    "    for word, flag in pairs:\n",
    "        if flag not in pos_analysis:\n",
    "            pos_analysis[flag] = set()\n",
    "        pos_analysis[flag].add(word)\n",
    "\n",
    "for flag, words in pos_analysis.items():\n",
    "    print(flag, ':', list(words)[:50])\n",
    "    print('=======================')"
   ]
  },
  {
   "cell_type": "markdown",
   "metadata": {},
   "source": [
    "|         Type        |     Description    |         Type        |     Description    |         Type        |     Description    |         Type        |     Description    |         Type        |     Description    |\n",
    "|:-------------------:|:------------------:|:-------------------:|:------------------:|:-------------------:|:------------------:|:-------------------:|:------------------:|:-------------------:|:------------------:|\n",
    "| A                   | 非謂形容詞         | Na                  | 普通名詞           | Nv                  | 名物化動詞         | VHC                 | 狀態使動動詞       | COLONCATEGORY       | 冒號               |\n",
    "| Caa                 | 對等連接詞         | Nb                  | 專有名詞           | P                   | 介詞               | VI                  | 狀態類及物動詞     | COMMACATEGORY       | 逗號               |\n",
    "| Cab                 | 連接詞，如：等等   | Nc                  | 地方詞             | T                   | 語助詞             | VJ                  | 狀態及物動詞       | DASHCATEGORY        | 破折號             |\n",
    "| Cba                 | 連接詞，如：的話   | Ncd                 | 位置詞             | VA                  | 動作不及物動詞     | VK                  | 狀態句賓動詞       | DOTCATEGORY         | 點號               |\n",
    "| Cbb                 | 關聯連接詞         | Nd                  | 時間詞             | VAC                 | 動作使動動詞       | VL                  | 狀態謂賓動詞       | ETCCATEGORY         | 刪節號             |\n",
    "| D                   | 副詞               | Nep                 | 指代定詞           | VB                  | 動作類及物動詞     | V_2                 | 有                 | EXCLAMATIONCATEGORY | 驚嘆號             |\n",
    "| Da                  | 數量副詞           | Neqa                | 數量定詞           | VC                  | 動作及物動詞       |                     |                    | PARENTHESISCATEGORY | 括號               |\n",
    "| Dfa                 | 動詞前程度副詞     | Neqb                | 後置數量定詞       | VCL                 | 動作接地方賓語動詞 |                     |                    | PAUSECATEGORY       | 頓號               |\n",
    "| Dfb                 | 動詞後程度副詞     | Nes                 | 特指定詞           | VD                  | 雙賓動詞           | DE                  | 的之得地           | PERIODCATEGORY      | 句號               |\n",
    "| Di                  | 時態標記           | Neu                 | 數詞定詞           | VF                  | 動作謂賓動詞       | SHI                 | 是                 | QUESTIONCATEGORY    | 問號               |\n",
    "| Dk                  | 句副詞             | Nf                  | 量詞               | VE                  | 動作句賓動詞       | FW                  | 外文               | SEMICOLONCATEGORY   | 分號               |\n",
    "| DM                  | 定量式             | Ng                  | 後置詞             | VG                  | 分類動詞           |                     |                    | SPCHANGECATEGORY    | 雙直線             |\n",
    "| I                   | 感嘆詞             | Nh                  | 代名詞             | VH                  | 狀態不及物動詞     |                     |                    | WHITESPACE          | 空白               |"
   ]
  },
  {
   "cell_type": "code",
   "execution_count": 11,
   "metadata": {},
   "outputs": [],
   "source": [
    "# 根據以上列舉出來的文字以及詞性表，請列出想要排除的詞性\n",
    "def get_excluded_flags(train_title_cuts, apper_times=20):\n",
    "    pos_analysis = {}\n",
    "    flags=[]\n",
    "    \n",
    "    for _, pairs in train_title_cuts.items():\n",
    "        for word, flag in pairs:\n",
    "            if flag not in pos_analysis:\n",
    "                pos_analysis[flag] = set()\n",
    "            pos_analysis[flag].add(word)\n",
    "\n",
    "    for flag, words in pos_analysis.items():\n",
    "        if len(words) < apper_times:\n",
    "            flags.append(flag)\n",
    "            \n",
    "    return flags"
   ]
  },
  {
   "cell_type": "code",
   "execution_count": 12,
   "metadata": {},
   "outputs": [],
   "source": [
    "def get_selection_train_title_cuts(train_title_cuts):\n",
    "    excluded_flags = get_excluded_flags(train_title_cuts)\n",
    "    selection_train_title_cuts = {}\n",
    "    \n",
    "    for idx, pairs in train_title_cuts.items():\n",
    "        _list = []\n",
    "        for pair in pairs:\n",
    "            if pair[1] not in excluded_flags:\n",
    "                _list.append(pair)\n",
    "        selection_train_title_cuts[idx] =_list\n",
    "        \n",
    "    return selection_train_title_cuts"
   ]
  },
  {
   "cell_type": "markdown",
   "metadata": {},
   "source": [
    "# Bag of Words (BOW)"
   ]
  },
  {
   "cell_type": "code",
   "execution_count": 13,
   "metadata": {},
   "outputs": [],
   "source": [
    "word2index = {}\n",
    "index2word = {}\n",
    "# 產生字與index對應的關係\n",
    "unique_words = list(set(word for pairs in train_title_cuts.values() for word, _ in pairs))\n",
    "\n",
    "for index, word in enumerate(unique_words):\n",
    "    word2index[word] = index\n",
    "    index2word[index] = word"
   ]
  },
  {
   "cell_type": "code",
   "execution_count": 14,
   "metadata": {},
   "outputs": [
    {
     "name": "stdout",
     "output_type": "stream",
     "text": [
      "5095\n",
      "溫暖\n"
     ]
    }
   ],
   "source": [
    "print(word2index['溫暖'])\n",
    "print(index2word[word2index['溫暖']])"
   ]
  },
  {
   "cell_type": "code",
   "execution_count": 15,
   "metadata": {},
   "outputs": [],
   "source": [
    "def get_bow_vector(pairs, word2index):\n",
    "    vector = np.zeros(len(word2index))\n",
    "    \n",
    "    for word, _ in pairs:\n",
    "        if word in word2index :\n",
    "            vector[word2index[word]] += 1\n",
    "            \n",
    "    return vector"
   ]
  },
  {
   "cell_type": "code",
   "execution_count": 16,
   "metadata": {},
   "outputs": [],
   "source": [
    "def get_bow_vector_with_selection(pairs, word2index):\n",
    "    excluded_flags = get_excluded_flags(train_title_cuts)\n",
    "    vector = np.zeros(len(word2index))\n",
    "    \n",
    "    for word, flag in pairs:\n",
    "        if word in word2index and flag not in excluded_flags:\n",
    "            vector[word2index[word]] += 1\n",
    "            \n",
    "    return vector"
   ]
  },
  {
   "cell_type": "markdown",
   "metadata": {},
   "source": [
    "# Cosine Similarity"
   ]
  },
  {
   "cell_type": "code",
   "execution_count": 17,
   "metadata": {},
   "outputs": [],
   "source": [
    "def cosine_similarity(bow1, bow2):\n",
    "    uni_dist = lambda x: x/(np.sqrt(np.sum(x**2)))\n",
    "    return np.dot(uni_dist(bow1),uni_dist(bow2))"
   ]
  },
  {
   "cell_type": "code",
   "execution_count": 18,
   "metadata": {},
   "outputs": [
    {
     "data": {
      "text/plain": [
       "0.08703882797784893"
      ]
     },
     "execution_count": 18,
     "metadata": {},
     "output_type": "execute_result"
    }
   ],
   "source": [
    "bow1 = get_bow_vector(train_title_cuts[100], word2index)\n",
    "bow2 = get_bow_vector(train_title_cuts[130], word2index)\n",
    "cosine_similarity(bow1, bow2)"
   ]
  },
  {
   "cell_type": "code",
   "execution_count": 19,
   "metadata": {},
   "outputs": [
    {
     "data": {
      "text/plain": [
       "[('山東', 'Nc'),\n",
       " ('魯能', 'Nb'),\n",
       " ('有沒有', 'D'),\n",
       " ('可能', 'D'),\n",
       " ('拿到', 'VC'),\n",
       " ('今年', 'Nd'),\n",
       " ('的', 'DE'),\n",
       " ('中', 'A'),\n",
       " ('超', 'A'),\n",
       " ('冠軍', 'Na'),\n",
       " ('？', 'QUESTIONCATEGORY')]"
      ]
     },
     "metadata": {},
     "output_type": "display_data"
    },
    {
     "data": {
      "text/plain": [
       "[('NBA', 'Nb'),\n",
       " ('和', 'Caa'),\n",
       " ('CBA', 'FW'),\n",
       " ('差距', 'Na'),\n",
       " ('在', 'P'),\n",
       " ('哪裡', 'Ncd'),\n",
       " ('？', 'QUESTIONCATEGORY'),\n",
       " ('6', 'Neu'),\n",
       " ('張', 'Nf'),\n",
       " ('圖', 'VF'),\n",
       " ('一目瞭然', 'VH'),\n",
       " ('！', 'EXCLAMATIONCATEGORY')]"
      ]
     },
     "metadata": {},
     "output_type": "display_data"
    }
   ],
   "source": [
    "display(train_title_cuts[100])\n",
    "display(train_title_cuts[130])"
   ]
  },
  {
   "cell_type": "markdown",
   "metadata": {},
   "source": [
    "# Group mean vector"
   ]
  },
  {
   "cell_type": "code",
   "execution_count": 20,
   "metadata": {},
   "outputs": [
    {
     "data": {
      "text/plain": [
       "{'體育': array([0.04666667, 0.        , 0.        , ..., 0.        , 0.        ,\n",
       "        0.        ]),\n",
       " '財經': array([0.06333333, 0.        , 0.        , ..., 0.00666667, 0.        ,\n",
       "        0.        ]),\n",
       " '科技': array([0.09666667, 0.        , 0.        , ..., 0.        , 0.        ,\n",
       "        0.        ]),\n",
       " '旅遊': array([0.01, 0.  , 0.07, ..., 0.  , 0.  , 0.  ]),\n",
       " '農業': array([0.02      , 0.        , 0.        , ..., 0.        , 0.00333333,\n",
       "        0.        ]),\n",
       " '遊戲': array([0.04      , 0.        , 0.00666667, ..., 0.        , 0.        ,\n",
       "        0.00666667])}"
      ]
     },
     "metadata": {},
     "output_type": "display_data"
    }
   ],
   "source": [
    "group_vectors = {news_class: [] for news_class in all_news_class}\n",
    "group_mean_vector = {}\n",
    "\n",
    "for index, pairs in sorted(train_title_cuts.items()):\n",
    "    vector = get_bow_vector_with_selection(pairs, word2index)\n",
    "    news_class = train_classes[index]\n",
    "    group_vectors[news_class].append(vector)\n",
    "\n",
    "for news_class, vectors in group_vectors.items():\n",
    "    group_mean_vector[news_class] = np.mean(vectors, axis=0)\n",
    "    \n",
    "display(group_mean_vector)"
   ]
  },
  {
   "cell_type": "markdown",
   "metadata": {},
   "source": [
    "# Group mean vector: 測試"
   ]
  },
  {
   "cell_type": "code",
   "execution_count": 21,
   "metadata": {
    "tags": []
   },
   "outputs": [],
   "source": [
    "classification = {news_class: [] for news_class in all_news_class}\n",
    "for index, pairs in sorted(test_title_cuts.items()):\n",
    "    vector = get_bow_vector_with_selection(pairs, word2index)\n",
    "    \n",
    "    if np.sum(np.square(vector)) == 0:\n",
    "        continue\n",
    "\n",
    "    max_val = -2.0\n",
    "    max_class = None\n",
    "    \n",
    "    for news_class, ref_vector in group_mean_vector.items():\n",
    "        val = cosine_similarity(ref_vector, vector)\n",
    "        if val > max_val:\n",
    "            max_class = news_class\n",
    "            max_val = val\n",
    "\n",
    "    classification[max_class].append(index)"
   ]
  },
  {
   "cell_type": "code",
   "execution_count": 22,
   "metadata": {
    "tags": []
   },
   "outputs": [
    {
     "name": "stdout",
     "output_type": "stream",
     "text": [
      "體育 : Counter({'體育': 71, '遊戲': 9, '財經': 6, '旅遊': 4, '農業': 3, '科技': 1}) \taccuracy : 75.53%\n",
      "財經 : Counter({'財經': 67, '科技': 18, '農業': 9, '旅遊': 6, '遊戲': 6, '體育': 3}) \taccuracy : 61.47%\n",
      "科技 : Counter({'科技': 64, '財經': 13, '體育': 8, '農業': 7, '遊戲': 3, '旅遊': 2}) \taccuracy : 65.98%\n",
      "旅遊 : Counter({'旅遊': 71, '農業': 11, '財經': 6, '遊戲': 3, '科技': 2, '體育': 1}) \taccuracy : 75.53%\n",
      "農業 : Counter({'農業': 65, '旅遊': 7, '科技': 5, '體育': 4, '財經': 3, '遊戲': 1}) \taccuracy : 76.47%\n",
      "遊戲 : Counter({'遊戲': 78, '體育': 12, '科技': 9, '旅遊': 8, '財經': 5, '農業': 4}) \taccuracy : 67.24%\n",
      "\n",
      "Average accuracy : 70.37%\n"
     ]
    }
   ],
   "source": [
    "from collections import Counter\n",
    "\n",
    "accuracy=[]\n",
    "\n",
    "for group, ids in classification.items():\n",
    "    counter = Counter([test_classes[id] for id in ids])\n",
    "    prediciton=round(counter[group]/sum(counter.values())*100,2)\n",
    "    accuracy.append(prediciton)\n",
    "    print(f'{group} : {counter} \\taccuracy : {prediciton}%')\n",
    "\n",
    "print(f'\\nAverage accuracy : {round(np.mean(accuracy),2)}%')"
   ]
  }
 ],
 "metadata": {
  "kernelspec": {
   "display_name": "Python 3",
   "language": "python",
   "name": "python3"
  },
  "language_info": {
   "codemirror_mode": {
    "name": "ipython",
    "version": 3
   },
   "file_extension": ".py",
   "mimetype": "text/x-python",
   "name": "python",
   "nbconvert_exporter": "python",
   "pygments_lexer": "ipython3",
   "version": "3.8.3"
  }
 },
 "nbformat": 4,
 "nbformat_minor": 4
}
